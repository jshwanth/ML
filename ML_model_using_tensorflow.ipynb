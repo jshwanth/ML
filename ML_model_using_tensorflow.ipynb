{
  "nbformat": 4,
  "nbformat_minor": 0,
  "metadata": {
    "colab": {
      "provenance": [],
      "authorship_tag": "ABX9TyM5XObTvRDYB9mY/HkOAjFq",
      "include_colab_link": true
    },
    "kernelspec": {
      "name": "python3",
      "display_name": "Python 3"
    },
    "language_info": {
      "name": "python"
    }
  },
  "cells": [
    {
      "cell_type": "markdown",
      "metadata": {
        "id": "view-in-github",
        "colab_type": "text"
      },
      "source": [
        "<a href=\"https://colab.research.google.com/github/jshwanth/ML/blob/main/ML_model_using_tensorflow.ipynb\" target=\"_parent\"><img src=\"https://colab.research.google.com/assets/colab-badge.svg\" alt=\"Open In Colab\"/></a>"
      ]
    },
    {
      "cell_type": "code",
      "execution_count": null,
      "metadata": {
        "id": "7j3ymSrTjToT"
      },
      "outputs": [],
      "source": [
        "import tensorflow as tf\n",
        "import matplotlib.pyplot as plt\n",
        "import numpy as np"
      ]
    },
    {
      "cell_type": "code",
      "source": [
        "observations = 100\n",
        "xs = np.random.uniform(low = -10,high=10, size= (observations,1))\n",
        "zs = np.random.uniform(-10,10, size= (observations,1))\n",
        "inputs = np.column_stack((xs,zs))\n",
        "noise = np.random.uniform(-1,1,(observations,1))\n",
        "ys = 2*xs - 3*zs + 5 + noise\n",
        "np.savez('TF_intro', inputs=inputs, targets=ys)"
      ],
      "metadata": {
        "id": "tceuRSqUjWEq"
      },
      "execution_count": null,
      "outputs": []
    },
    {
      "cell_type": "code",
      "source": [
        "training_data = np.load('TF_intro.npz')\n",
        "input_size = 2 #xs, zs\n",
        "output_size = 1 #y\n",
        "\n",
        "model = tf.keras.Sequential(\n",
        "    [tf.keras.layers.Dense(output_size)]\n",
        ")\n",
        "\n",
        "model.compile(optimizer = 'sgd', loss='mean_squared_error')\n",
        "model.fit(training_data['inputs'], training_data['targets'], epochs=100, verbose=2)  #verbose= 0 -> silent\n",
        "                                                                                     #verbose= 1 -> progress bar\n",
        "                                                                                     #verbose= 2 -> one line per epoch\n",
        "\n",
        "#loss function : 2x - 3z + 5 + noise"
      ],
      "metadata": {
        "colab": {
          "base_uri": "https://localhost:8080/"
        },
        "id": "anJ4Ms54rf8E",
        "outputId": "5466c47c-86d7-411d-9924-b0da455cb770"
      },
      "execution_count": null,
      "outputs": [
        {
          "output_type": "stream",
          "name": "stdout",
          "text": [
            "Epoch 1/100\n",
            "4/4 - 0s - 113ms/step - loss: 116.4277\n",
            "Epoch 2/100\n",
            "4/4 - 0s - 16ms/step - loss: 20.9367\n",
            "Epoch 3/100\n",
            "4/4 - 0s - 14ms/step - loss: 18.8567\n",
            "Epoch 4/100\n",
            "4/4 - 0s - 15ms/step - loss: 17.3644\n",
            "Epoch 5/100\n",
            "4/4 - 0s - 14ms/step - loss: 14.0230\n",
            "Epoch 6/100\n",
            "4/4 - 0s - 14ms/step - loss: 11.3546\n",
            "Epoch 7/100\n",
            "4/4 - 0s - 14ms/step - loss: 9.8456\n",
            "Epoch 8/100\n",
            "4/4 - 0s - 15ms/step - loss: 8.5801\n",
            "Epoch 9/100\n",
            "4/4 - 0s - 15ms/step - loss: 7.1583\n",
            "Epoch 10/100\n",
            "4/4 - 0s - 13ms/step - loss: 5.7731\n",
            "Epoch 11/100\n",
            "4/4 - 0s - 16ms/step - loss: 5.2391\n",
            "Epoch 12/100\n",
            "4/4 - 0s - 14ms/step - loss: 4.8575\n",
            "Epoch 13/100\n",
            "4/4 - 0s - 13ms/step - loss: 3.9528\n",
            "Epoch 14/100\n",
            "4/4 - 0s - 13ms/step - loss: 3.2409\n",
            "Epoch 15/100\n",
            "4/4 - 0s - 13ms/step - loss: 3.2083\n",
            "Epoch 16/100\n",
            "4/4 - 0s - 15ms/step - loss: 2.4693\n",
            "Epoch 17/100\n",
            "4/4 - 0s - 15ms/step - loss: 2.0357\n",
            "Epoch 18/100\n",
            "4/4 - 0s - 15ms/step - loss: 1.8794\n",
            "Epoch 19/100\n",
            "4/4 - 0s - 14ms/step - loss: 1.5461\n",
            "Epoch 20/100\n",
            "4/4 - 0s - 15ms/step - loss: 1.3999\n",
            "Epoch 21/100\n",
            "4/4 - 0s - 13ms/step - loss: 1.2840\n",
            "Epoch 22/100\n",
            "4/4 - 0s - 14ms/step - loss: 1.2028\n",
            "Epoch 23/100\n",
            "4/4 - 0s - 12ms/step - loss: 0.9980\n",
            "Epoch 24/100\n",
            "4/4 - 0s - 17ms/step - loss: 1.0253\n",
            "Epoch 25/100\n",
            "4/4 - 0s - 16ms/step - loss: 0.8165\n",
            "Epoch 26/100\n",
            "4/4 - 0s - 16ms/step - loss: 0.7058\n",
            "Epoch 27/100\n",
            "4/4 - 0s - 17ms/step - loss: 0.7007\n",
            "Epoch 28/100\n",
            "4/4 - 0s - 34ms/step - loss: 0.5970\n",
            "Epoch 29/100\n",
            "4/4 - 0s - 14ms/step - loss: 0.5340\n",
            "Epoch 30/100\n",
            "4/4 - 0s - 15ms/step - loss: 0.5439\n",
            "Epoch 31/100\n",
            "4/4 - 0s - 15ms/step - loss: 0.6104\n",
            "Epoch 32/100\n",
            "4/4 - 0s - 12ms/step - loss: 0.4575\n",
            "Epoch 33/100\n",
            "4/4 - 0s - 17ms/step - loss: 0.4593\n",
            "Epoch 34/100\n",
            "4/4 - 0s - 15ms/step - loss: 0.4424\n",
            "Epoch 35/100\n",
            "4/4 - 0s - 12ms/step - loss: 0.4790\n",
            "Epoch 36/100\n",
            "4/4 - 0s - 15ms/step - loss: 0.3806\n",
            "Epoch 37/100\n",
            "4/4 - 0s - 15ms/step - loss: 0.4359\n",
            "Epoch 38/100\n",
            "4/4 - 0s - 12ms/step - loss: 0.3857\n",
            "Epoch 39/100\n",
            "4/4 - 0s - 13ms/step - loss: 0.3790\n",
            "Epoch 40/100\n",
            "4/4 - 0s - 15ms/step - loss: 0.3436\n",
            "Epoch 41/100\n",
            "4/4 - 0s - 15ms/step - loss: 0.3234\n",
            "Epoch 42/100\n",
            "4/4 - 0s - 13ms/step - loss: 0.3476\n",
            "Epoch 43/100\n",
            "4/4 - 0s - 13ms/step - loss: 0.3151\n",
            "Epoch 44/100\n",
            "4/4 - 0s - 14ms/step - loss: 0.3594\n",
            "Epoch 45/100\n",
            "4/4 - 0s - 12ms/step - loss: 0.3175\n",
            "Epoch 46/100\n",
            "4/4 - 0s - 15ms/step - loss: 0.3266\n",
            "Epoch 47/100\n",
            "4/4 - 0s - 13ms/step - loss: 0.3069\n",
            "Epoch 48/100\n",
            "4/4 - 0s - 14ms/step - loss: 0.3793\n",
            "Epoch 49/100\n",
            "4/4 - 0s - 15ms/step - loss: 0.3023\n",
            "Epoch 50/100\n",
            "4/4 - 0s - 14ms/step - loss: 0.3084\n",
            "Epoch 51/100\n",
            "4/4 - 0s - 14ms/step - loss: 0.3586\n",
            "Epoch 52/100\n",
            "4/4 - 0s - 13ms/step - loss: 0.3224\n",
            "Epoch 53/100\n",
            "4/4 - 0s - 15ms/step - loss: 0.3381\n",
            "Epoch 54/100\n",
            "4/4 - 0s - 12ms/step - loss: 0.3252\n",
            "Epoch 55/100\n",
            "4/4 - 0s - 13ms/step - loss: 0.3354\n",
            "Epoch 56/100\n",
            "4/4 - 0s - 12ms/step - loss: 0.3581\n",
            "Epoch 57/100\n",
            "4/4 - 0s - 17ms/step - loss: 0.3372\n",
            "Epoch 58/100\n",
            "4/4 - 0s - 16ms/step - loss: 0.3127\n",
            "Epoch 59/100\n",
            "4/4 - 0s - 17ms/step - loss: 0.3231\n",
            "Epoch 60/100\n",
            "4/4 - 0s - 12ms/step - loss: 0.3031\n",
            "Epoch 61/100\n",
            "4/4 - 0s - 15ms/step - loss: 0.3279\n",
            "Epoch 62/100\n",
            "4/4 - 0s - 15ms/step - loss: 0.3036\n",
            "Epoch 63/100\n",
            "4/4 - 0s - 15ms/step - loss: 0.2936\n",
            "Epoch 64/100\n",
            "4/4 - 0s - 15ms/step - loss: 0.3367\n",
            "Epoch 65/100\n",
            "4/4 - 0s - 15ms/step - loss: 0.3453\n",
            "Epoch 66/100\n",
            "4/4 - 0s - 13ms/step - loss: 0.3407\n",
            "Epoch 67/100\n",
            "4/4 - 0s - 15ms/step - loss: 0.3004\n",
            "Epoch 68/100\n",
            "4/4 - 0s - 15ms/step - loss: 0.3029\n",
            "Epoch 69/100\n",
            "4/4 - 0s - 13ms/step - loss: 0.2999\n",
            "Epoch 70/100\n",
            "4/4 - 0s - 12ms/step - loss: 0.3260\n",
            "Epoch 71/100\n",
            "4/4 - 0s - 15ms/step - loss: 0.3453\n",
            "Epoch 72/100\n",
            "4/4 - 0s - 13ms/step - loss: 0.3638\n",
            "Epoch 73/100\n",
            "4/4 - 0s - 17ms/step - loss: 0.3085\n",
            "Epoch 74/100\n",
            "4/4 - 0s - 15ms/step - loss: 0.3452\n",
            "Epoch 75/100\n",
            "4/4 - 0s - 15ms/step - loss: 0.3160\n",
            "Epoch 76/100\n",
            "4/4 - 0s - 13ms/step - loss: 0.3741\n",
            "Epoch 77/100\n",
            "4/4 - 0s - 13ms/step - loss: 0.3474\n",
            "Epoch 78/100\n",
            "4/4 - 0s - 14ms/step - loss: 0.3054\n",
            "Epoch 79/100\n",
            "4/4 - 0s - 15ms/step - loss: 0.4067\n",
            "Epoch 80/100\n",
            "4/4 - 0s - 13ms/step - loss: 0.3079\n",
            "Epoch 81/100\n",
            "4/4 - 0s - 39ms/step - loss: 0.3083\n",
            "Epoch 82/100\n",
            "4/4 - 0s - 36ms/step - loss: 0.3952\n",
            "Epoch 83/100\n",
            "4/4 - 0s - 32ms/step - loss: 0.3177\n",
            "Epoch 84/100\n",
            "4/4 - 0s - 39ms/step - loss: 0.3795\n",
            "Epoch 85/100\n",
            "4/4 - 0s - 22ms/step - loss: 0.3245\n",
            "Epoch 86/100\n",
            "4/4 - 0s - 19ms/step - loss: 0.3690\n",
            "Epoch 87/100\n",
            "4/4 - 0s - 19ms/step - loss: 0.3327\n",
            "Epoch 88/100\n",
            "4/4 - 0s - 35ms/step - loss: 0.3028\n",
            "Epoch 89/100\n",
            "4/4 - 0s - 17ms/step - loss: 0.3840\n",
            "Epoch 90/100\n",
            "4/4 - 0s - 35ms/step - loss: 0.3697\n",
            "Epoch 91/100\n",
            "4/4 - 0s - 37ms/step - loss: 0.3116\n",
            "Epoch 92/100\n",
            "4/4 - 0s - 19ms/step - loss: 0.3220\n",
            "Epoch 93/100\n",
            "4/4 - 0s - 19ms/step - loss: 0.2967\n",
            "Epoch 94/100\n",
            "4/4 - 0s - 20ms/step - loss: 0.3092\n",
            "Epoch 95/100\n",
            "4/4 - 0s - 22ms/step - loss: 0.3055\n",
            "Epoch 96/100\n",
            "4/4 - 0s - 35ms/step - loss: 0.3181\n",
            "Epoch 97/100\n",
            "4/4 - 0s - 21ms/step - loss: 0.3047\n",
            "Epoch 98/100\n",
            "4/4 - 0s - 19ms/step - loss: 0.3474\n",
            "Epoch 99/100\n",
            "4/4 - 0s - 36ms/step - loss: 0.3056\n",
            "Epoch 100/100\n",
            "4/4 - 0s - 32ms/step - loss: 0.3039\n"
          ]
        },
        {
          "output_type": "execute_result",
          "data": {
            "text/plain": [
              "<keras.src.callbacks.history.History at 0x7845cf8b9f10>"
            ]
          },
          "metadata": {},
          "execution_count": 9
        }
      ]
    },
    {
      "cell_type": "markdown",
      "source": [
        "Extract the weights and biases"
      ],
      "metadata": {
        "id": "rLYv682sunjj"
      }
    },
    {
      "cell_type": "code",
      "source": [
        "model.layers[0].get_weights()"
      ],
      "metadata": {
        "colab": {
          "base_uri": "https://localhost:8080/"
        },
        "id": "7X8PS3qasGOk",
        "outputId": "46d213f3-83f0-418e-c6a4-ab5433a2f75c"
      },
      "execution_count": null,
      "outputs": [
        {
          "output_type": "execute_result",
          "data": {
            "text/plain": [
              "[array([[ 1.9894816],\n",
              "        [-2.9885147]], dtype=float32),\n",
              " array([5.0181346], dtype=float32)]"
            ]
          },
          "metadata": {},
          "execution_count": 10
        }
      ]
    },
    {
      "cell_type": "code",
      "source": [
        "weights = model.layers[0].get_weights()[0]\n",
        "weights"
      ],
      "metadata": {
        "colab": {
          "base_uri": "https://localhost:8080/"
        },
        "id": "AayvF1mauwsZ",
        "outputId": "069f5b37-9e2f-466d-8574-3c48d40da5da"
      },
      "execution_count": null,
      "outputs": [
        {
          "output_type": "execute_result",
          "data": {
            "text/plain": [
              "array([[ 1.9894816],\n",
              "       [-2.9885147]], dtype=float32)"
            ]
          },
          "metadata": {},
          "execution_count": 11
        }
      ]
    },
    {
      "cell_type": "code",
      "source": [
        "biases = model.layers[0].get_weights()[1]\n",
        "biases"
      ],
      "metadata": {
        "colab": {
          "base_uri": "https://localhost:8080/"
        },
        "id": "KF3jCyK6u3PY",
        "outputId": "57ecd9db-0eae-4fdb-96d9-7e0ec6880d95"
      },
      "execution_count": null,
      "outputs": [
        {
          "output_type": "execute_result",
          "data": {
            "text/plain": [
              "array([5.0181346], dtype=float32)"
            ]
          },
          "metadata": {},
          "execution_count": 12
        }
      ]
    },
    {
      "cell_type": "markdown",
      "source": [
        "Make predictions"
      ],
      "metadata": {
        "id": "U4JeNZntvABB"
      }
    },
    {
      "cell_type": "code",
      "source": [
        "model.predict_on_batch(training_data['inputs']).round(1)"
      ],
      "metadata": {
        "colab": {
          "base_uri": "https://localhost:8080/"
        },
        "id": "ZHRRfnKgu6L0",
        "outputId": "eaddbc4c-8c36-42e6-8ae6-90dfa8ffaa20"
      },
      "execution_count": null,
      "outputs": [
        {
          "output_type": "execute_result",
          "data": {
            "text/plain": [
              "array([[  3.1],\n",
              "       [-41. ],\n",
              "       [-11.3],\n",
              "       [ -4.5],\n",
              "       [ -6.5],\n",
              "       [ 34.2],\n",
              "       [ 23.8],\n",
              "       [ 26.4],\n",
              "       [-26.7],\n",
              "       [-33.3],\n",
              "       [ 18.3],\n",
              "       [-12.9],\n",
              "       [ -8.7],\n",
              "       [ 14.4],\n",
              "       [  2.3],\n",
              "       [ 22.5],\n",
              "       [ -6.9],\n",
              "       [ 21.8],\n",
              "       [-16.7],\n",
              "       [ 25.9],\n",
              "       [ 39.7],\n",
              "       [ -7.5],\n",
              "       [ 38. ],\n",
              "       [-14.1],\n",
              "       [ 16.3],\n",
              "       [-24.1],\n",
              "       [-32.8],\n",
              "       [ 26.8],\n",
              "       [-23.6],\n",
              "       [ 37.8],\n",
              "       [  3.1],\n",
              "       [-16.7],\n",
              "       [ 49.7],\n",
              "       [ -9.7],\n",
              "       [ 37.5],\n",
              "       [ 13.8],\n",
              "       [ 26. ],\n",
              "       [  4.1],\n",
              "       [  6.5],\n",
              "       [ 47.6],\n",
              "       [-26.9],\n",
              "       [ 20.6],\n",
              "       [ 36.8],\n",
              "       [ 26.6],\n",
              "       [  8.5],\n",
              "       [ 18.5],\n",
              "       [  0.7],\n",
              "       [ 33.2],\n",
              "       [ -6.9],\n",
              "       [-18.5],\n",
              "       [ 14.3],\n",
              "       [  2.1],\n",
              "       [-29.5],\n",
              "       [ 29.3],\n",
              "       [-10.5],\n",
              "       [ -3.5],\n",
              "       [ 38.4],\n",
              "       [ 24.5],\n",
              "       [-12.3],\n",
              "       [-22.3],\n",
              "       [ 37.8],\n",
              "       [ 42.5],\n",
              "       [ 25.6],\n",
              "       [ -7. ],\n",
              "       [ -0.1],\n",
              "       [ 27.3],\n",
              "       [ -3.6],\n",
              "       [  8.7],\n",
              "       [ 30.8],\n",
              "       [ 13.8],\n",
              "       [ 10.8],\n",
              "       [  8. ],\n",
              "       [ -7.7],\n",
              "       [ -6.3],\n",
              "       [ -7.8],\n",
              "       [ -1. ],\n",
              "       [ 20.2],\n",
              "       [-16.8],\n",
              "       [ -4.4],\n",
              "       [-10.3],\n",
              "       [-19.9],\n",
              "       [  9.5],\n",
              "       [ 13.3],\n",
              "       [ 27.8],\n",
              "       [-10.7],\n",
              "       [-39.8],\n",
              "       [  4.6],\n",
              "       [ 16.2],\n",
              "       [ 40. ],\n",
              "       [-13.2],\n",
              "       [-10.1],\n",
              "       [ 28.9],\n",
              "       [-12.6],\n",
              "       [ 18. ],\n",
              "       [ 11.7],\n",
              "       [-16.1],\n",
              "       [-10.8],\n",
              "       [  8.5],\n",
              "       [-15. ],\n",
              "       [-28.4]], dtype=float32)"
            ]
          },
          "metadata": {},
          "execution_count": 14
        }
      ]
    },
    {
      "cell_type": "code",
      "source": [
        "training_data['targets'].round(1)"
      ],
      "metadata": {
        "colab": {
          "base_uri": "https://localhost:8080/"
        },
        "id": "3d9cmQIfvQW0",
        "outputId": "5a587c52-9760-455a-8ef7-e96c085ad63c"
      },
      "execution_count": null,
      "outputs": [
        {
          "output_type": "execute_result",
          "data": {
            "text/plain": [
              "array([[  2.9],\n",
              "       [-41.3],\n",
              "       [-11.5],\n",
              "       [ -5.2],\n",
              "       [ -5.7],\n",
              "       [ 35. ],\n",
              "       [ 24.2],\n",
              "       [ 27. ],\n",
              "       [-27.3],\n",
              "       [-34.5],\n",
              "       [ 18.5],\n",
              "       [-12.6],\n",
              "       [ -8.3],\n",
              "       [ 14.8],\n",
              "       [  2.2],\n",
              "       [ 22.1],\n",
              "       [ -7. ],\n",
              "       [ 22.4],\n",
              "       [-16.5],\n",
              "       [ 26. ],\n",
              "       [ 39.1],\n",
              "       [ -7.7],\n",
              "       [ 37.5],\n",
              "       [-14.2],\n",
              "       [ 16.1],\n",
              "       [-25.2],\n",
              "       [-33.1],\n",
              "       [ 26.2],\n",
              "       [-23.6],\n",
              "       [ 37.4],\n",
              "       [  2.5],\n",
              "       [-17.6],\n",
              "       [ 50.1],\n",
              "       [-10.5],\n",
              "       [ 37.6],\n",
              "       [ 13. ],\n",
              "       [ 26.3],\n",
              "       [  4.6],\n",
              "       [  6.7],\n",
              "       [ 47.7],\n",
              "       [-27.7],\n",
              "       [ 21.2],\n",
              "       [ 37.6],\n",
              "       [ 27.1],\n",
              "       [  7.5],\n",
              "       [ 18.4],\n",
              "       [  0.6],\n",
              "       [ 34.1],\n",
              "       [ -6.3],\n",
              "       [-18.8],\n",
              "       [ 14.7],\n",
              "       [  1.5],\n",
              "       [-28.8],\n",
              "       [ 29.6],\n",
              "       [-10.2],\n",
              "       [ -4.1],\n",
              "       [ 37.8],\n",
              "       [ 25. ],\n",
              "       [-11.7],\n",
              "       [-23.2],\n",
              "       [ 38.8],\n",
              "       [ 43.3],\n",
              "       [ 25.4],\n",
              "       [ -7. ],\n",
              "       [  0.5],\n",
              "       [ 28.3],\n",
              "       [ -3.2],\n",
              "       [  8.8],\n",
              "       [ 31.9],\n",
              "       [ 13.1],\n",
              "       [ 10.1],\n",
              "       [  8.9],\n",
              "       [ -7.2],\n",
              "       [ -6.1],\n",
              "       [ -8.2],\n",
              "       [ -0.6],\n",
              "       [ 20.8],\n",
              "       [-16.9],\n",
              "       [ -4.7],\n",
              "       [-10.6],\n",
              "       [-20.5],\n",
              "       [  8.8],\n",
              "       [ 14.2],\n",
              "       [ 28.6],\n",
              "       [-11.1],\n",
              "       [-39.9],\n",
              "       [  4.2],\n",
              "       [ 15.6],\n",
              "       [ 40.9],\n",
              "       [-12.4],\n",
              "       [-10.5],\n",
              "       [ 28.3],\n",
              "       [-13. ],\n",
              "       [ 18.2],\n",
              "       [ 10.9],\n",
              "       [-15.7],\n",
              "       [-10. ],\n",
              "       [  8.6],\n",
              "       [-15.9],\n",
              "       [-28.6]])"
            ]
          },
          "metadata": {},
          "execution_count": 15
        }
      ]
    },
    {
      "cell_type": "markdown",
      "source": [
        "Plotting the data"
      ],
      "metadata": {
        "id": "mohVKQB7vYmM"
      }
    },
    {
      "cell_type": "code",
      "source": [
        "plt.plot(np.squeeze(model.predict_on_batch(training_data['inputs'])), np.squeeze(training_data['targets']))\n",
        "plt.xlabel('outputs')\n",
        "plt.ylabel('targets')\n",
        "plt.show()\n"
      ],
      "metadata": {
        "colab": {
          "base_uri": "https://localhost:8080/",
          "height": 449
        },
        "id": "Qb_j-SqnvHyk",
        "outputId": "f7129216-1e5a-4229-8364-9a25aa68f5b6"
      },
      "execution_count": null,
      "outputs": [
        {
          "output_type": "display_data",
          "data": {
            "text/plain": [
              "<Figure size 640x480 with 1 Axes>"
            ],
            "image/png": "[encoded data removed]"
          },
          "metadata": {}
        }
      ]
    },
    {
      "cell_type": "code",
      "source": [],
      "metadata": {
        "id": "NrfRAxKqvgus"
      },
      "execution_count": null,
      "outputs": []
    }
  ]
}