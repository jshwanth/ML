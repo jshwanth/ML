{
  "nbformat": 4,
  "nbformat_minor": 0,
  "metadata": {
    "colab": {
      "provenance": [],
      "authorship_tag": "ABX9TyO4uA5CHws9wvGWaN2GetOF",
      "include_colab_link": true
    },
    "kernelspec": {
      "name": "python3",
      "display_name": "Python 3"
    },
    "language_info": {
      "name": "python"
    }
  },
  "cells": [
    {
      "cell_type": "markdown",
      "metadata": {
        "id": "view-in-github",
        "colab_type": "text"
      },
      "source": [
        "<a href=\"https://colab.research.google.com/github/jshwanth/ML/blob/main/Deep_neural_network_for_MNIST_classification.ipynb\" target=\"_parent\"><img src=\"https://colab.research.google.com/assets/colab-badge.svg\" alt=\"Open In Colab\"/></a>"
      ]
    },
    {
      "cell_type": "markdown",
      "source": [
        "\n",
        "\n",
        "# Import packages\n",
        "\n"
      ],
      "metadata": {
        "id": "KwNnpL2zv9bO"
      }
    },
    {
      "cell_type": "code",
      "execution_count": 2,
      "metadata": {
        "id": "G32P6Dhrr-cx"
      },
      "outputs": [],
      "source": [
        "import numpy as np\n",
        "import tensorflow as tf\n",
        "import tensorflow_datasets as tfds"
      ]
    },
    {
      "cell_type": "markdown",
      "source": [
        "Load the dataset"
      ],
      "metadata": {
        "id": "X00KdsS5wFyK"
      }
    },
    {
      "cell_type": "code",
      "source": [
        "mnist_dataset, mnist_info = tfds.load(name='mnist', with_info = True, as_supervised=True)"
      ],
      "metadata": {
        "id": "vR-OLUuzsOwL"
      },
      "execution_count": 5,
      "outputs": []
    },
    {
      "cell_type": "markdown",
      "source": [
        "Data Preprocessing"
      ],
      "metadata": {
        "id": "qsTbcZUPwOz4"
      }
    },
    {
      "cell_type": "code",
      "source": [
        "mnist_train, mnist_test = mnist_dataset['train'], mnist_dataset['test']\n",
        "\n",
        "num_validation_samples = 0.1 * mnist_info.splits['train'].num_examples\n",
        "num_validation_samples = tf.cast(num_validation_samples, tf.int64)\n",
        "\n",
        "num_test_samples = mnist_info.splits['test'].num_examples\n",
        "num_test_samples = tf.cast(num_test_samples, tf.int64)\n",
        "\n",
        "\n",
        "def scale(image,label):\n",
        "  image = tf.cast(image, tf.float32)\n",
        "  image /= 255.\n",
        "  return image, label\n",
        "\n",
        "scaled_train_and_validation_data = mnist_train.map(scale)\n",
        "scaled_test_data = mnist_test.map(scale)\n",
        "\n",
        "BUFFER_SIZE = 10000\n",
        "\n",
        "shuffled_train_and_validation_data = scaled_train_and_validation_data.shuffle(BUFFER_SIZE)\n",
        "\n",
        "validation_data = shuffled_train_and_validation_data.take(num_validation_samples)\n",
        "train_data = shuffled_train_and_validation_data.skip(num_validation_samples)\n",
        "\n",
        "BATCH_SIZE = 100\n",
        "\n",
        "train_data = train_data.batch(BATCH_SIZE)\n",
        "validation_data = validation_data.batch(num_validation_samples)\n",
        "test_data = scaled_test_data.batch(num_test_samples)\n",
        "\n",
        "validation_inputs, validation_targets = next(iter(validation_data))"
      ],
      "metadata": {
        "id": "DnBIu4qpslMv"
      },
      "execution_count": 6,
      "outputs": []
    },
    {
      "cell_type": "markdown",
      "source": [
        "Outline the model"
      ],
      "metadata": {
        "id": "242IDVjQwSuw"
      }
    },
    {
      "cell_type": "code",
      "source": [
        "input_size = 784\n",
        "output_size = 10 #10 digits\n",
        "hidden_layer_size = [200,150,100,50,25]\n",
        "\n",
        "\n",
        "input_size = 784\n",
        "output_size = 10 #10 digits\n",
        "hidden_layer_sizes = [200,150,100,50,25]\n",
        "\n",
        "model = tf.keras.Sequential([   #used to stack layers\n",
        "    tf.keras.layers.Flatten(input_shape=(28,28,1)),\n",
        "    # Adding hidden layers with different activation functions\n",
        "    tf.keras.layers.Dense(hidden_layer_sizes[0], activation='relu'),\n",
        "    tf.keras.layers.Dense(hidden_layer_sizes[1], activation='tanh'),\n",
        "    tf.keras.layers.Dense(hidden_layer_sizes[2], activation='relu'),\n",
        "    tf.keras.layers.Dense(hidden_layer_sizes[3], activation='sigmoid'),\n",
        "    tf.keras.layers.Dense(hidden_layer_sizes[4], activation='tanh'),\n",
        "    #output layer\n",
        "    tf.keras.layers.Dense(output_size, activation='softmax')\n",
        "])\n",
        "\n"
      ],
      "metadata": {
        "colab": {
          "base_uri": "https://localhost:8080/"
        },
        "id": "F5NDVa3ywRJF",
        "outputId": "60294e7d-910a-4feb-8f2a-70eba203b882"
      },
      "execution_count": 11,
      "outputs": [
        {
          "output_type": "stream",
          "name": "stderr",
          "text": [
            "/usr/local/lib/python3.11/dist-packages/keras/src/layers/reshaping/flatten.py:37: UserWarning: Do not pass an `input_shape`/`input_dim` argument to a layer. When using Sequential models, prefer using an `Input(shape)` object as the first layer in the model instead.\n",
            "  super().__init__(**kwargs)\n"
          ]
        }
      ]
    },
    {
      "cell_type": "markdown",
      "source": [
        "Loss function"
      ],
      "metadata": {
        "id": "OwqWC8T5x-D2"
      }
    },
    {
      "cell_type": "code",
      "source": [
        "model.compile(optimizer='adam', loss='sparse_categorical_crossentropy', metrics=['accuracy'])"
      ],
      "metadata": {
        "id": "2oWX7Ryxx2HI"
      },
      "execution_count": 12,
      "outputs": []
    },
    {
      "cell_type": "markdown",
      "source": [
        "Model training"
      ],
      "metadata": {
        "id": "GfZyUaeOyW6i"
      }
    },
    {
      "cell_type": "code",
      "source": [
        "num_epochs = 10\n",
        "model.fit(train_data, epochs=num_epochs, validation_data=(validation_inputs, validation_targets), verbose=2)\n"
      ],
      "metadata": {
        "colab": {
          "base_uri": "https://localhost:8080/"
        },
        "id": "fGRwC6NeyV3l",
        "outputId": "7aad1bbd-c35d-4e32-d6fb-bfe8cf8fddf9"
      },
      "execution_count": 15,
      "outputs": [
        {
          "output_type": "stream",
          "name": "stdout",
          "text": [
            "Epoch 1/10\n",
            "540/540 - 7s - 13ms/step - accuracy: 0.9935 - loss: 0.0207 - val_accuracy: 0.9903 - val_loss: 0.0323\n",
            "Epoch 2/10\n",
            "540/540 - 7s - 13ms/step - accuracy: 0.9936 - loss: 0.0213 - val_accuracy: 0.9895 - val_loss: 0.0333\n",
            "Epoch 3/10\n",
            "540/540 - 11s - 21ms/step - accuracy: 0.9943 - loss: 0.0181 - val_accuracy: 0.9940 - val_loss: 0.0226\n",
            "Epoch 4/10\n",
            "540/540 - 6s - 12ms/step - accuracy: 0.9941 - loss: 0.0188 - val_accuracy: 0.9930 - val_loss: 0.0236\n",
            "Epoch 5/10\n",
            "540/540 - 10s - 18ms/step - accuracy: 0.9948 - loss: 0.0168 - val_accuracy: 0.9935 - val_loss: 0.0217\n",
            "Epoch 6/10\n",
            "540/540 - 7s - 14ms/step - accuracy: 0.9958 - loss: 0.0133 - val_accuracy: 0.9943 - val_loss: 0.0165\n",
            "Epoch 7/10\n",
            "540/540 - 7s - 13ms/step - accuracy: 0.9953 - loss: 0.0149 - val_accuracy: 0.9933 - val_loss: 0.0214\n",
            "Epoch 8/10\n",
            "540/540 - 8s - 15ms/step - accuracy: 0.9955 - loss: 0.0134 - val_accuracy: 0.9947 - val_loss: 0.0219\n",
            "Epoch 9/10\n",
            "540/540 - 7s - 13ms/step - accuracy: 0.9958 - loss: 0.0128 - val_accuracy: 0.9955 - val_loss: 0.0133\n",
            "Epoch 10/10\n",
            "540/540 - 6s - 11ms/step - accuracy: 0.9974 - loss: 0.0092 - val_accuracy: 0.9955 - val_loss: 0.0146\n"
          ]
        },
        {
          "output_type": "execute_result",
          "data": {
            "text/plain": [
              "<keras.src.callbacks.history.History at 0x7d92e74016d0>"
            ]
          },
          "metadata": {},
          "execution_count": 15
        }
      ]
    },
    {
      "cell_type": "markdown",
      "source": [
        "Test the model"
      ],
      "metadata": {
        "id": "CxGfyvgG2jyx"
      }
    },
    {
      "cell_type": "code",
      "source": [
        "test_loss, test_accuracy = model.evaluate(test_data)\n",
        "print(f\"Test Accuracy: {test_accuracy:.4f}\")"
      ],
      "metadata": {
        "colab": {
          "base_uri": "https://localhost:8080/"
        },
        "id": "TjAfhpuC2NK-",
        "outputId": "a2683edd-f139-451b-b8d4-fa2045654c41"
      },
      "execution_count": 17,
      "outputs": [
        {
          "output_type": "stream",
          "name": "stdout",
          "text": [
            "\u001b[1m1/1\u001b[0m \u001b[32m━━━━━━━━━━━━━━━━━━━━\u001b[0m\u001b[37m\u001b[0m \u001b[1m1s\u001b[0m 560ms/step - accuracy: 0.9801 - loss: 0.0941\n",
            "Test Accuracy: 0.9801\n"
          ]
        }
      ]
    }
  ]
}